{
  "nbformat": 4,
  "nbformat_minor": 0,
  "metadata": {
    "colab": {
      "provenance": [],
      "authorship_tag": "ABX9TyM2B4h+r6+DruoSfLH1Cc2d"
    },
    "kernelspec": {
      "name": "python3",
      "display_name": "Python 3"
    },
    "language_info": {
      "name": "python"
    }
  },
  "cells": [
    {
      "cell_type": "code",
      "execution_count": 97,
      "metadata": {
        "id": "2ZJCeDZjmKmj"
      },
      "outputs": [],
      "source": [
        "import requests\n",
        "from bs4 import BeautifulSoup\n",
        "import pandas as pd\n",
        "from itertools import product\n",
        "from google.colab import files\n",
        "from os import uname_result\n",
        "import json"
      ]
    },
    {
      "cell_type": "code",
      "source": [
        "DOMAIN = \"https://www.sodimac.com.br/sodimac-br\"\n",
        "URL = f\"{DOMAIN}/category/cat170729/porcelanato\"\n",
        "HEADERS = {'User-Agent': 'Mozilla/5.0'}\n",
        "PARAMETERS = {'category': '/cat170729/porcelanato/', '?currentpage=': 1}"
      ],
      "metadata": {
        "id": "IlCXGce4ubdL"
      },
      "execution_count": 98,
      "outputs": []
    },
    {
      "cell_type": "code",
      "source": [
        "def get_pag_content(url, headers, parameters):\n",
        "  response = requests.get(URL, headers=HEADERS, params=PAREMETERS).text\n",
        "  soup = BeautifulSoup(response.text, \"html.parser\")\n",
        "  return soup"
      ],
      "metadata": {
        "id": "04k2BNgcxDyh"
      },
      "execution_count": 99,
      "outputs": []
    },
    {
      "cell_type": "code",
      "source": [
        "script_tag = soup.find(\"script\", {\"type\": \"application/ld+json\"})\n",
        "data = json.loads(script_tag.string)\n",
        "products_data = []"
      ],
      "metadata": {
        "id": "8gAqdqnZZXWs"
      },
      "execution_count": 104,
      "outputs": []
    },
    {
      "cell_type": "code",
      "source": [
        "for product in data[\"mainEntity\"][\"offers\"][\"itemOffered\"]:\n",
        "    sku = product[\"sku\"]\n",
        "    image = product[\"image\"]\n",
        "    name = product[\"name\"]\n",
        "    price = product[\"offers\"][\"price\"]\n",
        "    currency = product[\"offers\"][\"priceCurrency\"]\n",
        "    availability = product[\"offers\"][\"availability\"]\n",
        "    product_url = \"https://www.sodimac.com.br\" + product[\"offers\"][\"url\"]\n",
        "\n",
        "    #print(\"SKU:\", sku)\n",
        "    #print(\"Imagem:\", image)\n",
        "    #print(\"Nome:\", name)\n",
        "    #print(\"Preço:\", price, currency)\n",
        "    #print(\"Disponibilidade:\", availability)\n",
        "    #print(\"URL do produto:\", product_url)\n",
        "    #print()\n",
        "\n",
        "    products_data.append({\"SKU\": sku, \"Imagem\": image, \"Nome\": name, \"Preço\": price, \"Moeda\": currency, \"Disponibilidade\": availability, \"URL do produto\": product_url})"
      ],
      "metadata": {
        "id": "94gmhLoiaGwd"
      },
      "execution_count": 105,
      "outputs": []
    },
    {
      "cell_type": "code",
      "source": [
        "# Criar DataFrame\n",
        "df = pd.DataFrame(products_data)\n",
        "\n",
        "# Salvar DataFrame em um arquivo Excel\n",
        "df.to_excel(\"produtos_porcelanato.xlsx\", index=False)"
      ],
      "metadata": {
        "id": "9C6OHnasljYN"
      },
      "execution_count": null,
      "outputs": []
    }
  ]
}